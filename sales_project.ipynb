{
 "cells": [
  {
   "cell_type": "code",
   "execution_count": 1,
   "id": "8770be43",
   "metadata": {},
   "outputs": [],
   "source": [
    "%%capture\n",
    "%load_ext sql\n",
    "%sql sqlite:///chinook.db"
   ]
  },
  {
   "cell_type": "code",
   "execution_count": 2,
   "id": "69a0bbda",
   "metadata": {},
   "outputs": [
    {
     "name": "stdout",
     "output_type": "stream",
     "text": [
      " * sqlite:///chinook.db\n",
      "Done.\n"
     ]
    },
    {
     "data": {
      "text/html": [
       "<table>\n",
       "    <tr>\n",
       "        <th>name</th>\n",
       "        <th>type</th>\n",
       "    </tr>\n",
       "    <tr>\n",
       "        <td>album</td>\n",
       "        <td>table</td>\n",
       "    </tr>\n",
       "    <tr>\n",
       "        <td>artist</td>\n",
       "        <td>table</td>\n",
       "    </tr>\n",
       "    <tr>\n",
       "        <td>customer</td>\n",
       "        <td>table</td>\n",
       "    </tr>\n",
       "    <tr>\n",
       "        <td>employee</td>\n",
       "        <td>table</td>\n",
       "    </tr>\n",
       "    <tr>\n",
       "        <td>genre</td>\n",
       "        <td>table</td>\n",
       "    </tr>\n",
       "    <tr>\n",
       "        <td>invoice</td>\n",
       "        <td>table</td>\n",
       "    </tr>\n",
       "    <tr>\n",
       "        <td>invoice_line</td>\n",
       "        <td>table</td>\n",
       "    </tr>\n",
       "    <tr>\n",
       "        <td>media_type</td>\n",
       "        <td>table</td>\n",
       "    </tr>\n",
       "    <tr>\n",
       "        <td>playlist</td>\n",
       "        <td>table</td>\n",
       "    </tr>\n",
       "    <tr>\n",
       "        <td>playlist_track</td>\n",
       "        <td>table</td>\n",
       "    </tr>\n",
       "    <tr>\n",
       "        <td>track</td>\n",
       "        <td>table</td>\n",
       "    </tr>\n",
       "    <tr>\n",
       "        <td>top_5_names</td>\n",
       "        <td>view</td>\n",
       "    </tr>\n",
       "    <tr>\n",
       "        <td>number_customer</td>\n",
       "        <td>view</td>\n",
       "    </tr>\n",
       "    <tr>\n",
       "        <td>number_cust</td>\n",
       "        <td>view</td>\n",
       "    </tr>\n",
       "    <tr>\n",
       "        <td>pays</td>\n",
       "        <td>view</td>\n",
       "    </tr>\n",
       "    <tr>\n",
       "        <td>others</td>\n",
       "        <td>view</td>\n",
       "    </tr>\n",
       "    <tr>\n",
       "        <td>countries</td>\n",
       "        <td>view</td>\n",
       "    </tr>\n",
       "</table>"
      ],
      "text/plain": [
       "[('album', 'table'),\n",
       " ('artist', 'table'),\n",
       " ('customer', 'table'),\n",
       " ('employee', 'table'),\n",
       " ('genre', 'table'),\n",
       " ('invoice', 'table'),\n",
       " ('invoice_line', 'table'),\n",
       " ('media_type', 'table'),\n",
       " ('playlist', 'table'),\n",
       " ('playlist_track', 'table'),\n",
       " ('track', 'table'),\n",
       " ('top_5_names', 'view'),\n",
       " ('number_customer', 'view'),\n",
       " ('number_cust', 'view'),\n",
       " ('pays', 'view'),\n",
       " ('others', 'view'),\n",
       " ('countries', 'view')]"
      ]
     },
     "execution_count": 2,
     "metadata": {},
     "output_type": "execute_result"
    }
   ],
   "source": [
    "%%sql\n",
    "SELECT\n",
    "    name,\n",
    "    type\n",
    "FROM sqlite_master\n",
    "WHERE type IN (\"table\",\"view\");"
   ]
  },
  {
   "cell_type": "markdown",
   "id": "56e4db5c",
   "metadata": {},
   "source": [
    "347 album were sold around the word"
   ]
  },
  {
   "cell_type": "code",
   "execution_count": 3,
   "id": "e520315b",
   "metadata": {},
   "outputs": [
    {
     "name": "stdout",
     "output_type": "stream",
     "text": [
      " * sqlite:///chinook.db\n",
      "Done.\n"
     ]
    },
    {
     "data": {
      "text/html": [
       "<table>\n",
       "    <tr>\n",
       "        <th>num_album</th>\n",
       "        <th>Percentage</th>\n",
       "    </tr>\n",
       "    <tr>\n",
       "        <td>347</td>\n",
       "        <td>100.0</td>\n",
       "    </tr>\n",
       "</table>"
      ],
      "text/plain": [
       "[(347, 100.0)]"
      ]
     },
     "execution_count": 3,
     "metadata": {},
     "output_type": "execute_result"
    }
   ],
   "source": [
    "%%sql\n",
    "select count(*) as num_album,  ROUND(count(*) * 100.0 /\n",
    "                                         (select count(*)\n",
    "  \n",
    "                                          from album),2)  as Percentage\n",
    "from album\n"
   ]
  },
  {
   "cell_type": "markdown",
   "id": "7725519e",
   "metadata": {},
   "source": [
    "Number of track sold around the world by genre"
   ]
  },
  {
   "cell_type": "code",
   "execution_count": 4,
   "id": "2e35c571",
   "metadata": {},
   "outputs": [
    {
     "name": "stdout",
     "output_type": "stream",
     "text": [
      " * sqlite:///chinook.db\n",
      "Done.\n"
     ]
    },
    {
     "data": {
      "text/html": [
       "<table>\n",
       "    <tr>\n",
       "        <th>genre</th>\n",
       "        <th>num_of_track</th>\n",
       "        <th>Percentage</th>\n",
       "    </tr>\n",
       "    <tr>\n",
       "        <td>Rock</td>\n",
       "        <td>1297</td>\n",
       "        <td>37.03</td>\n",
       "    </tr>\n",
       "    <tr>\n",
       "        <td>Latin</td>\n",
       "        <td>579</td>\n",
       "        <td>16.53</td>\n",
       "    </tr>\n",
       "    <tr>\n",
       "        <td>Metal</td>\n",
       "        <td>374</td>\n",
       "        <td>10.68</td>\n",
       "    </tr>\n",
       "    <tr>\n",
       "        <td>Alternative &amp; Punk</td>\n",
       "        <td>332</td>\n",
       "        <td>9.48</td>\n",
       "    </tr>\n",
       "    <tr>\n",
       "        <td>Jazz</td>\n",
       "        <td>130</td>\n",
       "        <td>3.71</td>\n",
       "    </tr>\n",
       "</table>"
      ],
      "text/plain": [
       "[('Rock', 1297, 37.03),\n",
       " ('Latin', 579, 16.53),\n",
       " ('Metal', 374, 10.68),\n",
       " ('Alternative & Punk', 332, 9.48),\n",
       " ('Jazz', 130, 3.71)]"
      ]
     },
     "execution_count": 4,
     "metadata": {},
     "output_type": "execute_result"
    }
   ],
   "source": [
    "%%sql\n",
    "SELECT genre.name AS genre, COUNT(track.track_id) AS num_of_track,\n",
    "\n",
    "ROUND(count(track.track_id) * 100.0 /\n",
    "            (select count(*) from track),2)  as Percentage\n",
    "  FROM  genre\n",
    "  JOIN  track\n",
    "   ON  genre.genre_id = track.genre_id\n",
    "  JOIN album\n",
    "   ON track.album_id =album.album_id\n",
    " GROUP BY genre.name\n",
    "ORDER by num_of_track DESC\n",
    " LIMIT 5\n",
    "\n"
   ]
  },
  {
   "cell_type": "markdown",
   "id": "cef1041b",
   "metadata": {},
   "source": [
    " Query show number tracked sold  It gives also the genre of the track. ( in Uk )"
   ]
  },
  {
   "cell_type": "code",
   "execution_count": 5,
   "id": "18d5112e",
   "metadata": {},
   "outputs": [
    {
     "name": "stdout",
     "output_type": "stream",
     "text": [
      " * sqlite:///chinook.db\n",
      "Done.\n"
     ]
    },
    {
     "data": {
      "text/html": [
       "<table>\n",
       "    <tr>\n",
       "        <th>genre</th>\n",
       "        <th>num_of_track</th>\n",
       "        <th>sales_pourc</th>\n",
       "    </tr>\n",
       "    <tr>\n",
       "        <td>Rock</td>\n",
       "        <td>166</td>\n",
       "        <td>66.94</td>\n",
       "    </tr>\n",
       "    <tr>\n",
       "        <td>Metal</td>\n",
       "        <td>31</td>\n",
       "        <td>12.5</td>\n",
       "    </tr>\n",
       "    <tr>\n",
       "        <td>Alternative &amp; Punk</td>\n",
       "        <td>24</td>\n",
       "        <td>9.68</td>\n",
       "    </tr>\n",
       "    <tr>\n",
       "        <td>Latin</td>\n",
       "        <td>7</td>\n",
       "        <td>2.82</td>\n",
       "    </tr>\n",
       "    <tr>\n",
       "        <td>Classical</td>\n",
       "        <td>6</td>\n",
       "        <td>2.42</td>\n",
       "    </tr>\n",
       "</table>"
      ],
      "text/plain": [
       "[('Rock', 166, 66.94),\n",
       " ('Metal', 31, 12.5),\n",
       " ('Alternative & Punk', 24, 9.68),\n",
       " ('Latin', 7, 2.82),\n",
       " ('Classical', 6, 2.42)]"
      ]
     },
     "execution_count": 5,
     "metadata": {},
     "output_type": "execute_result"
    }
   ],
   "source": [
    "\n",
    "%%sql\n",
    "\n",
    "SELECT genre.name AS genre, COUNT(invoice_line.track_id) AS num_of_track, \n",
    "\n",
    "/*ROUND(count() * 100.0 /\n",
    "            (select count(*) from invoice_line),2)  as Percentage*/\n",
    "\n",
    "\n",
    "ROUND(SUM(invoice_line.quantity * invoice_line.unit_price *100.0)/\n",
    "             (SELECT SUM(total)\n",
    "                FROM invoice WHERE billing_country is 'United Kingdom'),2) AS sales_pourc\n",
    "\n",
    "  FROM  genre\n",
    "  JOIN  track\n",
    "   ON  genre.genre_id = track.genre_id\n",
    "  JOIN album\n",
    "   ON track.album_id =album.album_id\n",
    "JOIN invoice_line\n",
    "ON track.track_id = invoice_line.track_id\n",
    " JOIN invoice\n",
    "ON invoice_line.invoice_id = invoice.invoice_id \n",
    "WHERE invoice.billing_country in  ( 'United Kingdom')\n",
    "GROUP BY genre.name\n",
    "ORDER by num_of_track DESC\n",
    " LIMIT 5"
   ]
  },
  {
   "cell_type": "markdown",
   "id": "e2faa336",
   "metadata": {},
   "source": [
    " Query show number album  It gives also the percentage overall "
   ]
  },
  {
   "cell_type": "code",
   "execution_count": 6,
   "id": "668ab224",
   "metadata": {},
   "outputs": [
    {
     "name": "stdout",
     "output_type": "stream",
     "text": [
      " * sqlite:///chinook.db\n",
      "Done.\n"
     ]
    },
    {
     "data": {
      "text/html": [
       "<table>\n",
       "    <tr>\n",
       "        <th>genre</th>\n",
       "        <th>album</th>\n",
       "        <th>num_of_album</th>\n",
       "        <th>artist</th>\n",
       "        <th>Percentage</th>\n",
       "    </tr>\n",
       "    <tr>\n",
       "        <td>Rock</td>\n",
       "        <td>For Those About To Rock We Salute You</td>\n",
       "        <td>20</td>\n",
       "        <td>AC/DC</td>\n",
       "        <td>5.76</td>\n",
       "    </tr>\n",
       "    <tr>\n",
       "        <td>Metal</td>\n",
       "        <td>Ace Of Spades</td>\n",
       "        <td>17</td>\n",
       "        <td>Motörhead</td>\n",
       "        <td>4.9</td>\n",
       "    </tr>\n",
       "    <tr>\n",
       "        <td>Rock</td>\n",
       "        <td>The Police Greatest Hits</td>\n",
       "        <td>16</td>\n",
       "        <td>The Police</td>\n",
       "        <td>4.61</td>\n",
       "    </tr>\n",
       "    <tr>\n",
       "        <td>Rock</td>\n",
       "        <td>By The Way</td>\n",
       "        <td>16</td>\n",
       "        <td>Red Hot Chili Peppers</td>\n",
       "        <td>4.61</td>\n",
       "    </tr>\n",
       "    <tr>\n",
       "        <td>Rock</td>\n",
       "        <td>Jagged Little Pill</td>\n",
       "        <td>14</td>\n",
       "        <td>Alanis Morissette</td>\n",
       "        <td>4.03</td>\n",
       "    </tr>\n",
       "</table>"
      ],
      "text/plain": [
       "[('Rock', 'For Those About To Rock We Salute You', 20, 'AC/DC', 5.76),\n",
       " ('Metal', 'Ace Of Spades', 17, 'Motörhead', 4.9),\n",
       " ('Rock', 'The Police Greatest Hits', 16, 'The Police', 4.61),\n",
       " ('Rock', 'By The Way', 16, 'Red Hot Chili Peppers', 4.61),\n",
       " ('Rock', 'Jagged Little Pill', 14, 'Alanis Morissette', 4.03)]"
      ]
     },
     "execution_count": 6,
     "metadata": {},
     "output_type": "execute_result"
    }
   ],
   "source": [
    "%%sql\n",
    "\n",
    "SELECT \n",
    "   genre.name AS genre, album.title as album, count(album.album_id) as num_of_album , artist.name as artist,\n",
    "    \n",
    "    ROUND(count(*) * 100.0 /\n",
    "            (select count(*) from album),2 )  as Percentage\n",
    "    \n",
    " FROM  genre\n",
    " JOIN  track\n",
    "   ON  genre.genre_id = track.genre_id     \n",
    " JOIN invoice_line as i_l\n",
    "   ON i_l.track_id = track.track_id\n",
    " JOIN invoice\n",
    "   ON i_l.invoice_id = invoice.invoice_id\n",
    " JOIN album\n",
    "   ON track.album_id = album.album_id\n",
    " JOIN artist\n",
    "   ON album.artist_id = artist.artist_id\n",
    "WHERE invoice.billing_country in  ( 'United Kingdom')\n",
    "GROUP BY album.album_id\n",
    "ORDER BY num_of_album DESC\n",
    "LIMIT 5"
   ]
  },
  {
   "cell_type": "markdown",
   "id": "09eb3e83",
   "metadata": {},
   "source": [
    "Employee sales performance in UK"
   ]
  },
  {
   "cell_type": "code",
   "execution_count": 7,
   "id": "e84a2461",
   "metadata": {},
   "outputs": [
    {
     "name": "stdout",
     "output_type": "stream",
     "text": [
      " * sqlite:///chinook.db\n",
      "Done.\n"
     ]
    },
    {
     "data": {
      "text/html": [
       "<table>\n",
       "    <tr>\n",
       "        <th>billing_country</th>\n",
       "        <th>Employee</th>\n",
       "        <th>Hire_date</th>\n",
       "        <th>country</th>\n",
       "        <th>total_sales</th>\n",
       "        <th>quantity_sold</th>\n",
       "        <th>sales_prop</th>\n",
       "    </tr>\n",
       "    <tr>\n",
       "        <td>United Kingdom</td>\n",
       "        <td>Peacock Jane</td>\n",
       "        <td>2017-04-01</td>\n",
       "        <td>Canada</td>\n",
       "        <td>166.32</td>\n",
       "        <td>168</td>\n",
       "        <td>67.74</td>\n",
       "    </tr>\n",
       "    <tr>\n",
       "        <td>United Kingdom</td>\n",
       "        <td>Johnson Steve</td>\n",
       "        <td>2017-10-17</td>\n",
       "        <td>Canada</td>\n",
       "        <td>79.2</td>\n",
       "        <td>80</td>\n",
       "        <td>32.26</td>\n",
       "    </tr>\n",
       "</table>"
      ],
      "text/plain": [
       "[('United Kingdom', 'Peacock Jane', '2017-04-01', 'Canada', 166.32, 168, 67.74),\n",
       " ('United Kingdom', 'Johnson Steve', '2017-10-17', 'Canada', 79.2, 80, 32.26)]"
      ]
     },
     "execution_count": 7,
     "metadata": {},
     "output_type": "execute_result"
    }
   ],
   "source": [
    "%%sql\n",
    "SELECT  invoice.billing_country, employee.last_name || ' ' || employee.first_name AS Employee, \n",
    "SUBSTRING(employee.hire_date, 1 , 10) AS Hire_date, employee.country,\n",
    "ROUND(SUM(invoice_line.quantity * invoice_line.unit_price),2)  AS total_sales,\n",
    "SUM(invoice_line.quantity) AS quantity_sold,\n",
    "ROUND(SUM(invoice_line.quantity * invoice_line.unit_price *100.0)/\n",
    "             (SELECT SUM(total)\n",
    "                FROM invoice   WHERE invoice.billing_country in ( 'United Kingdom')  ),2) AS sales_prop\n",
    " FROM employee\n",
    " JOIN customer\n",
    "   ON employee.employee_id = customer.support_rep_id\n",
    " JOIN invoice\n",
    "   ON invoice.customer_id = customer.customer_id\n",
    " JOIN invoice_line\n",
    "   ON invoice.invoice_id = invoice_line.invoice_id\n",
    "WHERE invoice.billing_country in ( 'United Kingdom')\n",
    "GROUP BY employee.employee_id\n",
    "ORDER BY ROUND(SUM(total),2) DESC\n"
   ]
  },
  {
   "cell_type": "code",
   "execution_count": 8,
   "id": "b65a6001",
   "metadata": {},
   "outputs": [
    {
     "name": "stdout",
     "output_type": "stream",
     "text": [
      " * sqlite:///chinook.db\n",
      "Done.\n"
     ]
    },
    {
     "data": {
      "text/html": [
       "<table>\n",
       "    <tr>\n",
       "        <th>total</th>\n",
       "    </tr>\n",
       "    <tr>\n",
       "        <td>245.52</td>\n",
       "    </tr>\n",
       "</table>"
      ],
      "text/plain": [
       "[(245.52,)]"
      ]
     },
     "execution_count": 8,
     "metadata": {},
     "output_type": "execute_result"
    }
   ],
   "source": [
    "%%sql\n",
    "SELECT SUM(total) as total\n",
    "  FROM invoice\n",
    " WHERE invoice.billing_country in ( 'United Kingdom')"
   ]
  },
  {
   "cell_type": "markdown",
   "id": "ef97baf5",
   "metadata": {},
   "source": [
    "The next query show the total of sale per country"
   ]
  },
  {
   "cell_type": "code",
   "execution_count": 9,
   "id": "589f7a13",
   "metadata": {},
   "outputs": [
    {
     "name": "stdout",
     "output_type": "stream",
     "text": [
      " * sqlite:///chinook.db\n",
      "Done.\n"
     ]
    },
    {
     "data": {
      "text/html": [
       "<table>\n",
       "    <tr>\n",
       "        <th>billing_country</th>\n",
       "        <th>total</th>\n",
       "        <th>sales_prop</th>\n",
       "    </tr>\n",
       "    <tr>\n",
       "        <td>USA</td>\n",
       "        <td>1040.49</td>\n",
       "        <td>21.34</td>\n",
       "    </tr>\n",
       "    <tr>\n",
       "        <td>Canada</td>\n",
       "        <td>535.59</td>\n",
       "        <td>12.38</td>\n",
       "    </tr>\n",
       "    <tr>\n",
       "        <td>Brazil</td>\n",
       "        <td>427.68</td>\n",
       "        <td>9.93</td>\n",
       "    </tr>\n",
       "    <tr>\n",
       "        <td>France</td>\n",
       "        <td>389.07</td>\n",
       "        <td>8.14</td>\n",
       "    </tr>\n",
       "    <tr>\n",
       "        <td>Germany</td>\n",
       "        <td>334.62</td>\n",
       "        <td>6.68</td>\n",
       "    </tr>\n",
       "</table>"
      ],
      "text/plain": [
       "[('USA', 1040.49, 21.34),\n",
       " ('Canada', 535.59, 12.38),\n",
       " ('Brazil', 427.68, 9.93),\n",
       " ('France', 389.07, 8.14),\n",
       " ('Germany', 334.62, 6.68)]"
      ]
     },
     "execution_count": 9,
     "metadata": {},
     "output_type": "execute_result"
    }
   ],
   "source": [
    "%%sql\n",
    "SELECT billing_country, \n",
    " ROUND(SUM(invoice.total),2) as total,\n",
    "       ROUND(COUNT(*)*100.0/\n",
    "             (SELECT COUNT(*) \n",
    "                FROM invoice), 2)  AS sales_prop\n",
    "  \n",
    "FROM invoice\n",
    "GROUP BY billing_country\n",
    "ORDER BY sales_prop DESC\n",
    "LIMIT 5"
   ]
  },
  {
   "cell_type": "markdown",
   "id": "90e9e286",
   "metadata": {},
   "source": [
    " query that will return number customers in each country. All countries with 1 \n",
    "customer are just mentionned as other .  Look the table \"teste\" to see lis of countries an number of customers.  "
   ]
  },
  {
   "cell_type": "code",
   "execution_count": 10,
   "id": "de8a43db",
   "metadata": {},
   "outputs": [
    {
     "name": "stdout",
     "output_type": "stream",
     "text": [
      " * sqlite:///chinook.db\n",
      "Done.\n",
      "(sqlite3.OperationalError) near \"as\": syntax error\n",
      "[SQL: CREATE VIEW pays as \n",
      "     SELECT COUNT(distinct customer.customer_id as Customers, \n",
      "       CASE\n",
      "            WHEN COUNT(distinct customer.customer_id) = 1 then 'other' else country\n",
      "           \n",
      "            END AS country, ROUND(SUM(total),2) as total , COUNT(distinct invoice_id) as numb_ord\n",
      "FROM customer  \n",
      "JOIN invoice\n",
      "  ON customer.customer_id = invoice.customer_id\n",
      "\n",
      "GROUP BY country \n",
      "ORDER BY customers DESC;]\n",
      "(Background on this error at: https://sqlalche.me/e/14/e3q8)\n"
     ]
    }
   ],
   "source": [
    "%%sql\n",
    "DROP VIEW IF EXISTS pays;\n",
    "CREATE VIEW pays as \n",
    "     SELECT COUNT(distinct customer.customer_id as Customers, \n",
    "       CASE\n",
    "            WHEN COUNT(distinct customer.customer_id) = 1 then 'other' else country\n",
    "           \n",
    "            END AS country, ROUND(SUM(total),2) as total , COUNT(distinct invoice_id) as numb_ord\n",
    "FROM customer  \n",
    "JOIN invoice\n",
    "  ON customer.customer_id = invoice.customer_id\n",
    "\n",
    "GROUP BY country \n",
    "ORDER BY customers DESC;\n",
    "\n",
    "SELECT * FROM pays\n",
    " LIMIT 5\n",
    "\n"
   ]
  },
  {
   "cell_type": "code",
   "execution_count": 11,
   "id": "d7b912c5",
   "metadata": {},
   "outputs": [
    {
     "name": "stdout",
     "output_type": "stream",
     "text": [
      " * sqlite:///chinook.db\n",
      "Done.\n",
      "Done.\n",
      "(sqlite3.OperationalError) no such table: main.pays\n",
      "[SQL: SELECT * FROM others]\n",
      "(Background on this error at: https://sqlalche.me/e/14/e3q8)\n"
     ]
    }
   ],
   "source": [
    "%%sql\n",
    "DROP VIEW IF EXISTS others;\n",
    "CREATE VIEW others as\n",
    "     SELECT COUNT(*) as customers, country,  SUM(total) as total, SUM(numb_ord) as numb_ord\n",
    "FROM pays\n",
    "WHERE country = 'other';\n",
    "\n",
    "SELECT * FROM others\n",
    "\n"
   ]
  },
  {
   "cell_type": "code",
   "execution_count": 12,
   "id": "e478ee37",
   "metadata": {},
   "outputs": [
    {
     "name": "stdout",
     "output_type": "stream",
     "text": [
      " * sqlite:///chinook.db\n",
      "Done.\n",
      "(sqlite3.OperationalError) near \"countries\": syntax error\n",
      "[SQL: CREATE VIEW VIEW countries as\n",
      "          SELECT * from pays\n",
      "           WHERE country != 'other'\n",
      "   UNION ALL\n",
      "SELECT *\n",
      "  FROM others;]\n",
      "(Background on this error at: https://sqlalche.me/e/14/e3q8)\n"
     ]
    }
   ],
   "source": [
    "%%sql\n",
    "DROP VIEW IF EXISTS countries;\n",
    "CREATE VIEW VIEW countries as\n",
    "          SELECT * from pays\n",
    "           WHERE country != 'other'\n",
    "   UNION ALL\n",
    "SELECT *\n",
    "  FROM others;\n",
    "\n",
    "SELECT * FROM countries\n",
    " LIMIT 5"
   ]
  },
  {
   "cell_type": "markdown",
   "id": "b2d4cb75",
   "metadata": {},
   "source": [
    "The query below is a test. it shows the number of order by country"
   ]
  },
  {
   "cell_type": "code",
   "execution_count": 13,
   "id": "11ee9216",
   "metadata": {},
   "outputs": [
    {
     "name": "stdout",
     "output_type": "stream",
     "text": [
      " * sqlite:///chinook.db\n",
      "Done.\n"
     ]
    },
    {
     "data": {
      "text/html": [
       "<table>\n",
       "    <tr>\n",
       "        <th>billing_country</th>\n",
       "        <th>numb_ord</th>\n",
       "    </tr>\n",
       "    <tr>\n",
       "        <td>USA</td>\n",
       "        <td>131</td>\n",
       "    </tr>\n",
       "    <tr>\n",
       "        <td>Canada</td>\n",
       "        <td>76</td>\n",
       "    </tr>\n",
       "    <tr>\n",
       "        <td>Brazil</td>\n",
       "        <td>61</td>\n",
       "    </tr>\n",
       "    <tr>\n",
       "        <td>France</td>\n",
       "        <td>50</td>\n",
       "    </tr>\n",
       "    <tr>\n",
       "        <td>Germany</td>\n",
       "        <td>41</td>\n",
       "    </tr>\n",
       "</table>"
      ],
      "text/plain": [
       "[('USA', 131), ('Canada', 76), ('Brazil', 61), ('France', 50), ('Germany', 41)]"
      ]
     },
     "execution_count": 13,
     "metadata": {},
     "output_type": "execute_result"
    }
   ],
   "source": [
    "%%sql\n",
    "SELECT billing_country, COUNT(distinct invoice_id) as numb_ord\n",
    "  FROM invoice\n",
    "\n",
    "GROUP BY billing_country\n",
    "ORDER BY numb_ord desc \n",
    "LIMIT 5"
   ]
  },
  {
   "cell_type": "code",
   "execution_count": 14,
   "id": "c4f1eb90",
   "metadata": {},
   "outputs": [
    {
     "name": "stdout",
     "output_type": "stream",
     "text": [
      " * sqlite:///chinook.db\n",
      "(sqlite3.OperationalError) no such table: countries\n",
      "[SQL: SELECT * , round((total / customers),2) as cust_spent  , round((total / numb_ord),2) as Avg_ord\n",
      "  FROM countries\n",
      "GROUP BY country\n",
      "ORDER BY avg_ord DESC , cust_spent DESC, numb_ord DESC]\n",
      "(Background on this error at: https://sqlalche.me/e/14/e3q8)\n"
     ]
    }
   ],
   "source": [
    "%%sql\n",
    "SELECT * , round((total / customers),2) as cust_spent  , round((total / numb_ord),2) as Avg_ord\n",
    "  FROM countries\n",
    "GROUP BY country\n",
    "ORDER BY avg_ord DESC , cust_spent DESC, numb_ord DESC\n"
   ]
  },
  {
   "cell_type": "markdown",
   "id": "d8d15d1a",
   "metadata": {},
   "source": [
    "The query above shows number of customer per country.\n",
    "Notice where country = 'other' this is all the countries that have one customer only. So 15 of them\n",
    "cust_spent represent how much in specific country a customer spend. In Canda it is  £ 66.95 (535.59 / 8 = 85.54)\n",
    "Avg_ord represent how much was spent on average per item. In india it is 8.72. £ 183.15 for 21 items\n",
    "\n",
    "based on those record Csech Republic is top of list as each customer spent at list £ 9.11\n",
    "UK has 8.77.  \n",
    "-- One thing to do can be increase the number of items bought by those countries \n",
    "-- or reduce by few pences the prices to increase the quantity sold\n",
    "\n",
    "Czech Republic, UK and India have few customers but have a lot order. \n",
    "Thing to consider is to try have more customers"
   ]
  },
  {
   "cell_type": "code",
   "execution_count": 15,
   "id": "66b63a50",
   "metadata": {},
   "outputs": [
    {
     "name": "stdout",
     "output_type": "stream",
     "text": [
      " * sqlite:///chinook.db\n",
      "Done.\n"
     ]
    },
    {
     "data": {
      "text/plain": [
       "[]"
      ]
     },
     "execution_count": 15,
     "metadata": {},
     "output_type": "execute_result"
    }
   ],
   "source": [
    "%%sql\n",
    "DROP VIEW IF EXISTS mm;\n"
   ]
  },
  {
   "cell_type": "code",
   "execution_count": null,
   "id": "50828a4f",
   "metadata": {},
   "outputs": [],
   "source": []
  }
 ],
 "metadata": {
  "kernelspec": {
   "display_name": "Python 3 (ipykernel)",
   "language": "python",
   "name": "python3"
  },
  "language_info": {
   "codemirror_mode": {
    "name": "ipython",
    "version": 3
   },
   "file_extension": ".py",
   "mimetype": "text/x-python",
   "name": "python",
   "nbconvert_exporter": "python",
   "pygments_lexer": "ipython3",
   "version": "3.9.12"
  }
 },
 "nbformat": 4,
 "nbformat_minor": 5
}
