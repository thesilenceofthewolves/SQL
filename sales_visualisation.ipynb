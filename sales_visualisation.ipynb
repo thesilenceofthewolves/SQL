{
 "cells": [
  {
   "cell_type": "code",
   "execution_count": 1,
   "id": "f817841c",
   "metadata": {},
   "outputs": [
    {
     "name": "stdout",
     "output_type": "stream",
     "text": [
      "Requirement already satisfied: pyodbc in /home/usman/anaconda3/lib/python3.9/site-packages (4.0.32)\n",
      "Note: you may need to restart the kernel to use updated packages.\n"
     ]
    }
   ],
   "source": [
    "pip install pyodbc\n"
   ]
  },
  {
   "cell_type": "code",
   "execution_count": 2,
   "id": "e6a21ae5",
   "metadata": {},
   "outputs": [],
   "source": [
    "import pandas as pd\n",
    "import sqlite3\n",
    "import numpy as np"
   ]
  },
  {
   "cell_type": "code",
   "execution_count": 3,
   "id": "d62bc730",
   "metadata": {},
   "outputs": [],
   "source": [
    "# Create sqlite connection\n",
    "sales = sqlite3.connect('chinook.db')\n",
    "\n",
    "df = pd.read_sql_query(\"SELECT * FROM customer\", sales)\n"
   ]
  },
  {
   "cell_type": "code",
   "execution_count": 4,
   "id": "8e7b6cd5",
   "metadata": {},
   "outputs": [],
   "source": [
    "#df['ID'] = df.index\n",
    "#df.head()"
   ]
  },
  {
   "cell_type": "code",
   "execution_count": 5,
   "id": "fed783bd",
   "metadata": {},
   "outputs": [],
   "source": [
    "#Create a data frame from a query. Return number track and percentage overalll\n",
    "df = pd.read_sql_query( '''\n",
    "\n",
    "\n",
    "SELECT genre.name AS genre, COUNT(track.track_id) AS num_of_track,\n",
    "\n",
    "ROUND(count(track.track_id) * 100.0 /\n",
    "            (select count(*) from track),2)  as Percentage\n",
    "  FROM  genre\n",
    "  JOIN  track\n",
    "   ON  genre.genre_id = track.genre_id\n",
    "  JOIN album\n",
    "   ON track.album_id =album.album_id\n",
    " GROUP BY genre.name\n",
    "ORDER by num_of_track DESC\n",
    "\n",
    "\n",
    "\n",
    "'''\n",
    "    \n",
    "    \n",
    "  \n",
    "    , sales)"
   ]
  },
  {
   "cell_type": "code",
   "execution_count": 6,
   "id": "ff43d0e9",
   "metadata": {},
   "outputs": [
    {
     "data": {
      "text/html": [
       "<div>\n",
       "<style scoped>\n",
       "    .dataframe tbody tr th:only-of-type {\n",
       "        vertical-align: middle;\n",
       "    }\n",
       "\n",
       "    .dataframe tbody tr th {\n",
       "        vertical-align: top;\n",
       "    }\n",
       "\n",
       "    .dataframe thead th {\n",
       "        text-align: right;\n",
       "    }\n",
       "</style>\n",
       "<table border=\"1\" class=\"dataframe\">\n",
       "  <thead>\n",
       "    <tr style=\"text-align: right;\">\n",
       "      <th></th>\n",
       "      <th>genre</th>\n",
       "      <th>num_of_track</th>\n",
       "      <th>Percentage</th>\n",
       "    </tr>\n",
       "  </thead>\n",
       "  <tbody>\n",
       "    <tr>\n",
       "      <th>0</th>\n",
       "      <td>Rock</td>\n",
       "      <td>1297</td>\n",
       "      <td>37.03</td>\n",
       "    </tr>\n",
       "    <tr>\n",
       "      <th>1</th>\n",
       "      <td>Latin</td>\n",
       "      <td>579</td>\n",
       "      <td>16.53</td>\n",
       "    </tr>\n",
       "    <tr>\n",
       "      <th>2</th>\n",
       "      <td>Metal</td>\n",
       "      <td>374</td>\n",
       "      <td>10.68</td>\n",
       "    </tr>\n",
       "    <tr>\n",
       "      <th>3</th>\n",
       "      <td>Alternative &amp; Punk</td>\n",
       "      <td>332</td>\n",
       "      <td>9.48</td>\n",
       "    </tr>\n",
       "    <tr>\n",
       "      <th>4</th>\n",
       "      <td>Jazz</td>\n",
       "      <td>130</td>\n",
       "      <td>3.71</td>\n",
       "    </tr>\n",
       "  </tbody>\n",
       "</table>\n",
       "</div>"
      ],
      "text/plain": [
       "                genre  num_of_track  Percentage\n",
       "0                Rock          1297       37.03\n",
       "1               Latin           579       16.53\n",
       "2               Metal           374       10.68\n",
       "3  Alternative & Punk           332        9.48\n",
       "4                Jazz           130        3.71"
      ]
     },
     "execution_count": 6,
     "metadata": {},
     "output_type": "execute_result"
    }
   ],
   "source": [
    "df.head()"
   ]
  },
  {
   "cell_type": "code",
   "execution_count": 7,
   "id": "912c9ff2",
   "metadata": {},
   "outputs": [
    {
     "data": {
      "image/png": "[encoded data removed]",
      "text/plain": [
       "<Figure size 432x288 with 1 Axes>"
      ]
     },
     "metadata": {
      "needs_background": "light"
     },
     "output_type": "display_data"
    }
   ],
   "source": [
    "# Ensure plots are displayed inline in the notebook\n",
    "%matplotlib inline\n",
    "\n",
    "from matplotlib import pyplot as plt\n",
    "\n",
    "# Create a bar plot of name vs grade\n",
    "plt.bar(x=df.genre, height=df.num_of_track, color='teal')\n",
    "\n",
    "# Display the plot\n",
    "plt.show()"
   ]
  },
  {
   "cell_type": "code",
   "execution_count": 8,
   "id": "b46ea1c3",
   "metadata": {},
   "outputs": [
    {
     "data": {
      "image/png": "[encoded data removed]",
      "text/plain": [
       "<Figure size 576x216 with 1 Axes>"
      ]
     },
     "metadata": {
      "needs_background": "light"
     },
     "output_type": "display_data"
    }
   ],
   "source": [
    "# Create a Figure\n",
    "fig = plt.figure(figsize=(8,3))\n",
    "\n",
    "# Create a bar plot of name vs grade\n",
    "plt.bar(x=df.genre, height=df.num_of_track, color='Teal')\n",
    "\n",
    "# Customize the chart\n",
    "plt.title('Total sales')\n",
    "plt.xlabel('Genre')\n",
    "plt.ylabel('Number of sales')\n",
    "plt.grid(color='#95a5a6', linestyle='--', linewidth=2, axis='y', alpha=0.7)\n",
    "plt.xticks(rotation=90)\n",
    "\n",
    "# Show the figure. The figure is a graph reprensting number of track\n",
    "plt.show()"
   ]
  },
  {
   "cell_type": "code",
   "execution_count": 9,
   "id": "2f155ce9",
   "metadata": {},
   "outputs": [],
   "source": [
    "# the\n",
    "\n",
    "data = pd.read_sql_query(\n",
    "'''\n",
    "\n",
    "SELECT \n",
    "   genre.name AS genre, album.title as album, count(album.album_id) as num_of_album , artist.name as artist,\n",
    "    \n",
    "    ROUND(count(*) * 100.0 /\n",
    "            (select count(*) from album),2 )  as Percentage\n",
    "    \n",
    "    FROM  genre\n",
    "    JOIN  track\n",
    "   ON  genre.genre_id = track.genre_id     \n",
    " join invoice_line as i_l\n",
    "on i_l.track_id = track.track_id\n",
    " join invoice\n",
    " ON i_l.invoice_id = invoice.invoice_id\n",
    " JOIN album\n",
    " ON track.album_id = album.album_id\n",
    " JOIN artist\n",
    " ON album.artist_id = artist.artist_id\n",
    " group by album.album_id\n",
    " ORDER BY num_of_album DESC\n",
    "\n",
    "\n",
    "''', sales)\n",
    "\n"
   ]
  },
  {
   "cell_type": "code",
   "execution_count": 10,
   "id": "945f2036",
   "metadata": {},
   "outputs": [
    {
     "data": {
      "text/html": [
       "<div>\n",
       "<style scoped>\n",
       "    .dataframe tbody tr th:only-of-type {\n",
       "        vertical-align: middle;\n",
       "    }\n",
       "\n",
       "    .dataframe tbody tr th {\n",
       "        vertical-align: top;\n",
       "    }\n",
       "\n",
       "    .dataframe thead th {\n",
       "        text-align: right;\n",
       "    }\n",
       "</style>\n",
       "<table border=\"1\" class=\"dataframe\">\n",
       "  <thead>\n",
       "    <tr style=\"text-align: right;\">\n",
       "      <th></th>\n",
       "      <th>genre</th>\n",
       "      <th>album</th>\n",
       "      <th>num_of_album</th>\n",
       "      <th>artist</th>\n",
       "      <th>Percentage</th>\n",
       "    </tr>\n",
       "  </thead>\n",
       "  <tbody>\n",
       "    <tr>\n",
       "      <th>0</th>\n",
       "      <td>Rock</td>\n",
       "      <td>Are You Experienced?</td>\n",
       "      <td>187</td>\n",
       "      <td>Jimi Hendrix</td>\n",
       "      <td>53.89</td>\n",
       "    </tr>\n",
       "    <tr>\n",
       "      <th>1</th>\n",
       "      <td>Metal</td>\n",
       "      <td>Faceless</td>\n",
       "      <td>96</td>\n",
       "      <td>Godsmack</td>\n",
       "      <td>27.67</td>\n",
       "    </tr>\n",
       "    <tr>\n",
       "      <th>2</th>\n",
       "      <td>Metal</td>\n",
       "      <td>Mezmerize</td>\n",
       "      <td>93</td>\n",
       "      <td>System Of A Down</td>\n",
       "      <td>26.80</td>\n",
       "    </tr>\n",
       "    <tr>\n",
       "      <th>3</th>\n",
       "      <td>Alternative &amp; Punk</td>\n",
       "      <td>Get Born</td>\n",
       "      <td>90</td>\n",
       "      <td>JET</td>\n",
       "      <td>25.94</td>\n",
       "    </tr>\n",
       "    <tr>\n",
       "      <th>4</th>\n",
       "      <td>Rock</td>\n",
       "      <td>The Doors</td>\n",
       "      <td>83</td>\n",
       "      <td>The Doors</td>\n",
       "      <td>23.92</td>\n",
       "    </tr>\n",
       "    <tr>\n",
       "      <th>5</th>\n",
       "      <td>Rock</td>\n",
       "      <td>The Police Greatest Hits</td>\n",
       "      <td>80</td>\n",
       "      <td>The Police</td>\n",
       "      <td>23.05</td>\n",
       "    </tr>\n",
       "    <tr>\n",
       "      <th>6</th>\n",
       "      <td>Rock</td>\n",
       "      <td>Greatest Hits I</td>\n",
       "      <td>80</td>\n",
       "      <td>Queen</td>\n",
       "      <td>23.05</td>\n",
       "    </tr>\n",
       "    <tr>\n",
       "      <th>7</th>\n",
       "      <td>Rock</td>\n",
       "      <td>Big Ones</td>\n",
       "      <td>80</td>\n",
       "      <td>Aerosmith</td>\n",
       "      <td>23.05</td>\n",
       "    </tr>\n",
       "    <tr>\n",
       "      <th>8</th>\n",
       "      <td>Rock</td>\n",
       "      <td>From The Muddy Banks Of The Wishkah [live]</td>\n",
       "      <td>78</td>\n",
       "      <td>Nirvana</td>\n",
       "      <td>22.48</td>\n",
       "    </tr>\n",
       "    <tr>\n",
       "      <th>9</th>\n",
       "      <td>Rock</td>\n",
       "      <td>My Generation - The Very Best Of The Who</td>\n",
       "      <td>76</td>\n",
       "      <td>The Who</td>\n",
       "      <td>21.90</td>\n",
       "    </tr>\n",
       "  </tbody>\n",
       "</table>\n",
       "</div>"
      ],
      "text/plain": [
       "                genre                                       album  \\\n",
       "0                Rock                        Are You Experienced?   \n",
       "1               Metal                                    Faceless   \n",
       "2               Metal                                   Mezmerize   \n",
       "3  Alternative & Punk                                    Get Born   \n",
       "4                Rock                                   The Doors   \n",
       "5                Rock                    The Police Greatest Hits   \n",
       "6                Rock                             Greatest Hits I   \n",
       "7                Rock                                    Big Ones   \n",
       "8                Rock  From The Muddy Banks Of The Wishkah [live]   \n",
       "9                Rock    My Generation - The Very Best Of The Who   \n",
       "\n",
       "   num_of_album            artist  Percentage  \n",
       "0           187      Jimi Hendrix       53.89  \n",
       "1            96          Godsmack       27.67  \n",
       "2            93  System Of A Down       26.80  \n",
       "3            90               JET       25.94  \n",
       "4            83         The Doors       23.92  \n",
       "5            80        The Police       23.05  \n",
       "6            80             Queen       23.05  \n",
       "7            80         Aerosmith       23.05  \n",
       "8            78           Nirvana       22.48  \n",
       "9            76           The Who       21.90  "
      ]
     },
     "execution_count": 10,
     "metadata": {},
     "output_type": "execute_result"
    }
   ],
   "source": [
    "top_list = data.head(10)\n",
    "top_list"
   ]
  },
  {
   "cell_type": "code",
   "execution_count": 11,
   "id": "da1bb296",
   "metadata": {},
   "outputs": [
    {
     "data": {
      "image/png": "[encoded data removed]",
      "text/plain": [
       "<Figure size 576x216 with 1 Axes>"
      ]
     },
     "metadata": {
      "needs_background": "light"
     },
     "output_type": "display_data"
    }
   ],
   "source": [
    "# Create a Figure\n",
    "fig = plt.figure(figsize=(8,3))\n",
    "\n",
    "# Create a bar plot of name vs grade\n",
    "plt.bar(x=top_list.artist, height=top_list.num_of_album, color='Teal')\n",
    "\n",
    "# Customize the chart\n",
    "plt.title('Total sales')\n",
    "plt.xlabel('Genre')\n",
    "plt.ylabel('Number of sales')\n",
    "plt.grid(color='#95a5a6', linestyle='--', linewidth=2, axis='y', alpha=0.7)\n",
    "plt.xticks(rotation=90)\n",
    "\n",
    "# Show the figure\n",
    "plt.show()"
   ]
  },
  {
   "cell_type": "code",
   "execution_count": 12,
   "id": "3f614f12",
   "metadata": {},
   "outputs": [
    {
     "ename": "NameError",
     "evalue": "name 'test' is not defined",
     "output_type": "error",
     "traceback": [
      "\u001b[0;31m---------------------------------------------------------------------------\u001b[0m",
      "\u001b[0;31mNameError\u001b[0m                                 Traceback (most recent call last)",
      "Input \u001b[0;32mIn [12]\u001b[0m, in \u001b[0;36m<cell line: 5>\u001b[0;34m()\u001b[0m\n\u001b[1;32m      2\u001b[0m fig \u001b[38;5;241m=\u001b[39m plt\u001b[38;5;241m.\u001b[39mfigure(figsize\u001b[38;5;241m=\u001b[39m(\u001b[38;5;241m8\u001b[39m,\u001b[38;5;241m3\u001b[39m))\n\u001b[1;32m      4\u001b[0m \u001b[38;5;66;03m# Create a bar plot of name vs grade\u001b[39;00m\n\u001b[0;32m----> 5\u001b[0m plt\u001b[38;5;241m.\u001b[39mbar(x\u001b[38;5;241m=\u001b[39mtop_list\u001b[38;5;241m.\u001b[39malbum, height\u001b[38;5;241m=\u001b[39m\u001b[43mtest\u001b[49m\u001b[38;5;241m.\u001b[39mnum_of_album, color\u001b[38;5;241m=\u001b[39m\u001b[38;5;124m'\u001b[39m\u001b[38;5;124mTeal\u001b[39m\u001b[38;5;124m'\u001b[39m)\n\u001b[1;32m      7\u001b[0m \u001b[38;5;66;03m# Customize the chart\u001b[39;00m\n\u001b[1;32m      8\u001b[0m plt\u001b[38;5;241m.\u001b[39mtitle(\u001b[38;5;124m'\u001b[39m\u001b[38;5;124mTotal sales\u001b[39m\u001b[38;5;124m'\u001b[39m)\n",
      "\u001b[0;31mNameError\u001b[0m: name 'test' is not defined"
     ]
    },
    {
     "data": {
      "text/plain": [
       "<Figure size 576x216 with 0 Axes>"
      ]
     },
     "metadata": {},
     "output_type": "display_data"
    }
   ],
   "source": [
    "# Create a Figure\n",
    "fig = plt.figure(figsize=(8,3))\n",
    "\n",
    "# Create a bar plot of name vs grade\n",
    "plt.bar(x=top_list.album, height=test.num_of_album, color='Teal')\n",
    "\n",
    "# Customize the chart\n",
    "plt.title('Total sales')\n",
    "plt.xlabel('Albums')\n",
    "plt.ylabel('Number of sales')\n",
    "plt.grid(color='#95a5a6', linestyle='--', linewidth=2, axis='y', alpha=0.7)\n",
    "plt.xticks(rotation=90)\n",
    "\n",
    "# Show the figure\n",
    "plt.show()"
   ]
  },
  {
   "cell_type": "code",
   "execution_count": null,
   "id": "d4fa0d1d",
   "metadata": {},
   "outputs": [],
   "source": [
    "import seaborn as sb\n",
    "sb.set()"
   ]
  },
  {
   "cell_type": "code",
   "execution_count": null,
   "id": "6a72169f",
   "metadata": {},
   "outputs": [],
   "source": [
    "#data from query showing the total sale by city where country is UK\n",
    "data_sales = pd.read_sql_query('''\n",
    "\n",
    "SELECT i1.invoice_id, SUBSTRING(i1.invoice_date, 1, 10) as date, i1.billing_country, i1.billing_city,\n",
    "ROUND(i1.total,2) as total\n",
    "  FROM invoice i1\n",
    "  JOIN invoice i2\n",
    "    ON i1.invoice_id >= i2.invoice_id\n",
    "    where i1.billing_country in ('United Kingdom')\n",
    "GROUP BY i1.invoice_id, i1.invoice_date, i1.total, i1.billing_country\n",
    "--LIMIT 25\n",
    "    \n",
    "\n",
    "\n",
    "''', sales)\n"
   ]
  },
  {
   "cell_type": "code",
   "execution_count": null,
   "id": "22530a04",
   "metadata": {},
   "outputs": [],
   "source": [
    "data_sales.head(10)"
   ]
  },
  {
   "cell_type": "code",
   "execution_count": null,
   "id": "97b27822",
   "metadata": {},
   "outputs": [],
   "source": [
    "#Graph showing total sales over time\n",
    "import plotly.graph_objects as go\n",
    "from plotly.offline import init_notebook_mode, iplot # plot plotly graphs in line in a notebook\n",
    "init_notebook_mode(connected = True)\n",
    "# line chart using plotly expess Scatter\n",
    "trace = go.Scatter(\n",
    "                    x = data_sales[\"date\"],\n",
    "                    y = data_sales[\"total\"],\n",
    "                    mode = \"lines+markers\",\n",
    "                    name = \"TotalSales\",\n",
    "                    line = dict(width = 4),\n",
    "                    marker = dict(\n",
    "                                  size = 10,\n",
    "                                  color = \"rgba(120, 26, 120, 0.8)\"\n",
    "                                 ),\n",
    "                    hovertemplate = \" %{x}<br>£%{y:,.0f} <extra></extra>\",\n",
    "                  )\n",
    "line_data = [trace]\n",
    "layout = dict(\n",
    "              title = \"Total Sales by Month\",\n",
    "              titlefont = dict(size = 20),\n",
    "              margin=dict(l=10, r=50, b=10, t=70, pad=0),\n",
    "              xaxis= dict(title= \"Month\",ticklen = 5,zeroline = False),\n",
    "              yaxis= dict(title= \"Total Sales\", tickformat = \",.0f\", tickprefix=\"£\")\n",
    "             )\n",
    "fig = dict(data = line_data, layout = layout)\n",
    "iplot(fig)"
   ]
  },
  {
   "cell_type": "code",
   "execution_count": null,
   "id": "9b508c55",
   "metadata": {},
   "outputs": [],
   "source": [
    "# calculate total sales by city.  Dates_sales represent the sale in Uk. \n",
    "#To Have all countries we need change the conditions in data sales\n",
    "data_sales_city= pd.DataFrame(data_sales.groupby(\"billing_city\") \\\n",
    "[\"total\"].sum()).reset_index().rename({\"total\":\"TotalSales\"},axis=1)"
   ]
  },
  {
   "cell_type": "code",
   "execution_count": null,
   "id": "3bf64365",
   "metadata": {},
   "outputs": [],
   "source": [
    "data_sales_city.head()"
   ]
  },
  {
   "cell_type": "code",
   "execution_count": null,
   "id": "8b4b3e12",
   "metadata": {},
   "outputs": [],
   "source": [
    "\n",
    "#a pie representing sales by city. This case is in UK\n",
    "import plotly.express as px # used for interactive visualizations\n",
    "\n",
    "fig = px.pie(data_sales_city.head(),\n",
    "             values=\"TotalSales\",\n",
    "             names=\"billing_city\",\n",
    "             title=\"Percent of Total Sales by city\",\n",
    "             color_discrete_sequence=px.colors.qualitative.G10\n",
    "            )\n",
    "# px.colors.qualitative.swatches().show() # see available color palettes\n",
    "\n",
    "fig.update_traces(\n",
    "                  textposition=\"inside\",\n",
    "                  textinfo=\"percent+label\"\n",
    "                 )\n",
    "fig.update_layout(\n",
    "                  margin=dict(l=10, r=50, b=10, t=70, pad=0),\n",
    "                  titlefont = dict(size = 20)\n",
    "                 )\n",
    "iplot(fig)"
   ]
  },
  {
   "cell_type": "markdown",
   "id": "c18756ef",
   "metadata": {},
   "source": [
    "customers analys"
   ]
  },
  {
   "cell_type": "code",
   "execution_count": null,
   "id": "2b7ccad2",
   "metadata": {},
   "outputs": [],
   "source": [
    "\n",
    "#data frame from query showing sales by continent\n",
    "data_customers = pd.read_sql_query(\n",
    " \n",
    "'''\n",
    "SELECT  customer.country, customer.city ,\n",
    "       CASE\n",
    "            WHEN customer.country in ('Canada', 'USA') then 'North_America'\n",
    "            WHEN customer.country in ( 'France','Czech Republic','Austria','Belgium','Denmark' ,                     \n",
    "               'Finland','Hungary','Ireland','Italy','Netherlands', 'Poland', 'Spain','Sweden', 'Norway',\n",
    "              'Portugal','Germany', 'United Kingdom') then 'Europe'\n",
    "            WHEN customer.country in ('Brazil', 'Chile', 'Argentina') then 'South_America'\n",
    "            WHEN customer.country in ('India') then 'Asia'\n",
    "            WHEN customer.country in  ('Australia') then 'Oceania'\n",
    "            ELSE 'Other'\n",
    "           \n",
    "    END AS continent, ROUND(SUM(total),2) as total , SUBSTRING(invoice.invoice_date, 1 , 10) as date\n",
    "    \n",
    "FROM customer  \n",
    "JOIN invoice\n",
    "  ON customer.customer_id = invoice.customer_id\n",
    "\n",
    "GROUP BY invoice.invoice_id , continent\n",
    "--ORDER BY customers DESC\n",
    "\n",
    "\n",
    "\n",
    "\n",
    "\n",
    "''', sales)\n",
    "data_sales.head()"
   ]
  },
  {
   "cell_type": "code",
   "execution_count": null,
   "id": "83b2beb8",
   "metadata": {},
   "outputs": [],
   "source": [
    "#data_customers.head(10)\n",
    "#asia\n",
    "dfa = data_customers.where(data_customers['continent'] == \"Asia\").dropna()\n",
    "#SouthAmerica\n",
    "dsa = data_customers.where(data_customers['continent'] == \"South_America\").dropna()\n",
    "#Europe\n",
    "de = data_customers.where(data_customers['continent'] == \"Europe\").dropna()\n",
    "#America\n",
    "dna = data_customers.where(data_customers['continent'] == \"North_America\").dropna()\n",
    "#oceania\n",
    "doceania = data_customers.where(data_customers['continent'] == \"Oceania\").dropna()"
   ]
  },
  {
   "cell_type": "code",
   "execution_count": null,
   "id": "c018e2b7",
   "metadata": {},
   "outputs": [],
   "source": [
    "doceania"
   ]
  },
  {
   "cell_type": "code",
   "execution_count": null,
   "id": "62dc70a3",
   "metadata": {},
   "outputs": [],
   "source": [
    "\n",
    "#Graph comparing SouthAmerica and Asia\n",
    "trace1 = go.Scatter(\n",
    "                    x = dsa[\"date\"],\n",
    "                    y = dsa[\"total\"],\n",
    "                    mode = \"lines+markers\",\n",
    "                    name = \"SouthAmerica\",\n",
    "                    line = dict(width = 4),\n",
    "                    marker = dict(\n",
    "                                  size = 10,\n",
    "                                  color = \"#0E79B2\"\n",
    "                                 ),\n",
    "                     hovertemplate = \" %{x}<br>£%{y:,.0f} <extra></extra>\",\n",
    "                  )\n",
    "trace2 = go.Scatter(\n",
    "                    x = dfa[\"date\"],\n",
    "                    y = dfa[\"total\"],\n",
    "                    mode = \"lines+markers\",\n",
    "                    name = \"Asia\",\n",
    "                    line = dict(width = 4),\n",
    "                    marker = dict(\n",
    "                                  size = 10,\n",
    "                                  color = \"rgba(242, 225, 39, 1)\"\n",
    "                                 ),\n",
    "\n",
    "                     hovertemplate = \" %{x}<br>£%{y:,.0f} <extra></extra>\",\n",
    "                  )\n",
    "\n",
    "\n",
    "line_data = [trace1, trace2]\n",
    "\n",
    "layout = dict(\n",
    "              title = \"Customers by Month\",\n",
    "              titlefont = dict(size = 20),\n",
    "              margin=dict(l=10, r=50, b=10, t=70, pad=0),\n",
    "              xaxis= dict(title= \"Month\",ticklen = 5,zeroline = False),\n",
    "              #yaxis= dict(title= \"sales\"),\n",
    "              yaxis= dict(title= \"Total Sales\", tickformat = \",.0f\", tickprefix=\"£\"),\n",
    "              legend=dict(\n",
    "                          font = dict(size = 12),\n",
    "                          yanchor = \"top\",\n",
    "                          y=0.98,\n",
    "                          x= 0.01\n",
    "                         )\n",
    "    \n",
    "             )\n",
    "fig = dict(data = line_data, layout = layout)\n",
    "iplot(fig)\n",
    "\n"
   ]
  },
  {
   "cell_type": "code",
   "execution_count": null,
   "id": "b8ca17a8",
   "metadata": {},
   "outputs": [],
   "source": [
    "# line chart using plotly expess Scatter\n",
    "#char for Oceania\n",
    "trace = go.Scatter(\n",
    "                    x = doceania[\"date\"],\n",
    "                    y = doceania[\"total\"],\n",
    "                    mode = \"lines+markers\",\n",
    "                    name = \"TotalSales\",\n",
    "                    line = dict(width = 4),\n",
    "                    marker = dict(\n",
    "                                  size = 10,\n",
    "                                  color = \"rgba(255, 165, 0, 0.8)\"\n",
    "                                 ),\n",
    "                    hovertemplate = \" %{x}<br>£%{y:,.0f} <extra></extra>\",\n",
    "                  )\n",
    "line_data = [trace]\n",
    "layout = dict(\n",
    "              title = \"Total Sales by Month\",\n",
    "              titlefont = dict(size = 20),\n",
    "              margin=dict(l=10, r=50, b=10, t=70, pad=0),\n",
    "              xaxis= dict(title= \"Month\",ticklen = 5,zeroline = False),\n",
    "              yaxis= dict(title= \"Total Sales\", tickformat = \",.0f\", tickprefix=\"£\")\n",
    "             )\n",
    "fig = dict(data = line_data, layout = layout)\n",
    "iplot(fig)"
   ]
  },
  {
   "cell_type": "code",
   "execution_count": null,
   "id": "61622bbd",
   "metadata": {},
   "outputs": [],
   "source": [
    "# line chart using plotly expess Scatter\n",
    "#char for Europe. The last 12 months\n",
    "trace = go.Scatter(\n",
    "                    x = dsa.tail(12)[\"date\"],\n",
    "                    y = dsa[\"total\"],\n",
    "                    mode = \"lines+markers\",\n",
    "                    name = \"TotalSales\",\n",
    "                    line = dict(width = 4),\n",
    "                    marker = dict(\n",
    "                                  size = 10,\n",
    "                                  color = \"hsl(112, 21%, 74%)\"\n",
    "                                 ),\n",
    "                    hovertemplate = \" %{x}<br>£%{y:,.0f} <extra></extra>\",\n",
    "                  )\n",
    "line_data = [trace]\n",
    "layout = dict(\n",
    "              title = \"Total sale las 12 months\",\n",
    "              titlefont = dict(size = 20),\n",
    "              margin=dict(l=10, r=50, b=10, t=70, pad=0),\n",
    "              xaxis= dict(title= \"Period\",ticklen = 5,zeroline = False),\n",
    "              yaxis= dict(title= \"Total Sales\", tickformat = \",.0f\", tickprefix=\"£\")\n",
    "             )\n",
    "fig = dict(data = line_data, layout = layout)\n",
    "iplot(fig)"
   ]
  },
  {
   "cell_type": "code",
   "execution_count": null,
   "id": "330f8335",
   "metadata": {},
   "outputs": [],
   "source": [
    "#pie chart for Soutth America\n",
    "fig = px.pie(dsa,\n",
    "             values=\"total\",\n",
    "             names=\"country\",\n",
    "             title=\"Percentage sale by city\",\n",
    "             color_discrete_sequence=px.colors.qualitative.G10\n",
    "            )\n",
    "# px.colors.qualitative.swatches().show() # see available color palettes\n",
    "\n",
    "fig.update_traces(\n",
    "                  textposition=\"inside\",\n",
    "                  textinfo=\"percent+label\"\n",
    "                 )\n",
    "fig.update_layout(\n",
    "                  margin=dict(l=10, r=50, b=10, t=70, pad=0),\n",
    "                  titlefont = dict(size = 20)\n",
    "                 )\n",
    "iplot(fig)"
   ]
  },
  {
   "cell_type": "markdown",
   "id": "c3e05e1c",
   "metadata": {},
   "source": [
    "sources : https://www.kaggle.com/code/atanaskanev/sales-analysis-and-visualization"
   ]
  },
  {
   "cell_type": "code",
   "execution_count": null,
   "id": "88f7f8b8",
   "metadata": {},
   "outputs": [],
   "source": [
    "#data showing number customers by country\n",
    "d_c = pd.read_sql_query(\n",
    "\n",
    "'''\n",
    "SELECT  customer.country, COUNT(distinct customer.customer_id) as customers, \n",
    "       ROUND(SUM(total),2) as total , COUNT(distinct invoice_id) as numb_ord\n",
    "FROM customer  \n",
    "JOIN invoice\n",
    "  ON customer.customer_id = invoice.customer_id\n",
    "\n",
    "GROUP BY country\n",
    "ORDER BY customers DESC\n",
    "\n",
    "''', sales )"
   ]
  },
  {
   "cell_type": "code",
   "execution_count": null,
   "id": "f52b4d00",
   "metadata": {},
   "outputs": [],
   "source": [
    "d_c.head()"
   ]
  },
  {
   "cell_type": "code",
   "execution_count": null,
   "id": "0718201a",
   "metadata": {},
   "outputs": [],
   "source": [
    "#pie chart for Soutth America\n",
    "fig = px.pie(d_c,\n",
    "             values=\"customers\",\n",
    "             names=\"country\",\n",
    "             title=\"Number customers by city\",\n",
    "             color_discrete_sequence=px.colors.qualitative.G10\n",
    "            )\n",
    "# px.colors.qualitative.swatches().show() # see available color palettes\n",
    "\n",
    "fig.update_traces(\n",
    "                  textposition=\"inside\",\n",
    "                  textinfo=\"percent+label\"\n",
    "                 )\n",
    "fig.update_layout(\n",
    "                  margin=dict(l=10, r=50, b=10, t=70, pad=0),\n",
    "                  titlefont = dict(size = 20)\n",
    "                 )\n",
    "iplot(fig)"
   ]
  },
  {
   "cell_type": "code",
   "execution_count": null,
   "id": "717f3821",
   "metadata": {},
   "outputs": [],
   "source": [
    "#For the fun Try some test"
   ]
  },
  {
   "cell_type": "code",
   "execution_count": null,
   "id": "f87b90ad",
   "metadata": {},
   "outputs": [],
   "source": [
    "#testing overall sales cities\n",
    "overall_sales = pd.read_sql_query(\n",
    "'''\n",
    "SELECT  customer.country, customer.city, \n",
    "       ROUND(SUM(total),2) as total \n",
    "FROM customer  \n",
    "JOIN invoice\n",
    "  ON customer.customer_id = invoice.customer_id\n",
    "\n",
    "GROUP BY customer.city\n",
    "ORDER BY total DESC\n",
    "\n",
    "\n",
    "\n",
    "\n",
    "''', sales)"
   ]
  },
  {
   "cell_type": "code",
   "execution_count": null,
   "id": "1164b30c",
   "metadata": {},
   "outputs": [],
   "source": [
    "#testing overall sales countries\n",
    "osw = pd.read_sql_query(\n",
    "'''\n",
    "SELECT  customer.country, customer.city, \n",
    "       ROUND(SUM(total),2) as total \n",
    "FROM customer  \n",
    "JOIN invoice\n",
    "  ON customer.customer_id = invoice.customer_id\n",
    "\n",
    "GROUP BY country\n",
    "ORDER BY total DESC\n",
    "\n",
    "\n",
    "\n",
    "\n",
    "''', sales)"
   ]
  },
  {
   "cell_type": "code",
   "execution_count": null,
   "id": "7bd5ca2b",
   "metadata": {},
   "outputs": [],
   "source": [
    "#barchart countries\n",
    "# Create a Figure\n",
    "fig = plt.figure(figsize=(15,6))\n",
    "\n",
    "# Create a bar plot of name vs grade\n",
    "plt.bar(x=osw.country, height=osw.total, color='pink')\n",
    "\n",
    "# Customize the chart\n",
    "plt.title('Total sales')\n",
    "plt.xlabel('country')\n",
    "plt.ylabel('Number of sales')\n",
    "plt.grid(color='#95a5a6', linestyle='--', linewidth=2, axis='y', alpha=0.7)\n",
    "plt.xticks(rotation=90)\n",
    "\n",
    "# Show the figure\n",
    "plt.show()\n",
    "\n",
    "### below will be a barchart of city\n",
    "# Create a Figure\n",
    "fig = plt.figure(figsize=(15,6))\n",
    "\n",
    "# Create a bar plot of name vs grade\n",
    "plt.bar(x=overall_sales.city, height=overall_sales.total, color='Teal')\n",
    "\n",
    "# Customize the chart\n",
    "plt.title('Total sales')\n",
    "plt.xlabel('city')\n",
    "plt.ylabel('Number of sales')\n",
    "plt.grid(color='#95a5a6', linestyle='--', linewidth=2, axis='y', alpha=0.7)\n",
    "plt.xticks(rotation=90)\n",
    "\n",
    "# Show the figure\n",
    "plt.show()\n",
    "\n",
    "# the graph show that USA is the top country but Prague in czech republic is the top city"
   ]
  },
  {
   "cell_type": "code",
   "execution_count": null,
   "id": "90959e81",
   "metadata": {},
   "outputs": [],
   "source": [
    "#Top 10 cities\n",
    "def result(top, total):\n",
    "    print('The overall sales for the 10 countries is: {}' .format(total) )\n",
    "    return top \n",
    "\n",
    "top = overall_sales.head(10)\n",
    "total = top['total'].sum()\n",
    "result(top, total)"
   ]
  },
  {
   "cell_type": "code",
   "execution_count": null,
   "id": "30e53937",
   "metadata": {},
   "outputs": [],
   "source": [
    "#last 10 cities\n",
    "last = overall_sales.tail(10)\n",
    "total = last['total'].sum()\n",
    "result(last, total)"
   ]
  },
  {
   "cell_type": "code",
   "execution_count": null,
   "id": "5b901271",
   "metadata": {},
   "outputs": [],
   "source": [
    "#pie chart for top 10.  The percent is for the 10 cities. 1490.94\n",
    "fig = px.pie(top,\n",
    "             values=\"total\",\n",
    "             names=\"city\",\n",
    "             title=\"Percentage top 10 cities\",\n",
    "             color_discrete_sequence=px.colors.qualitative.G10\n",
    "            )\n",
    "# px.colors.qualitative.swatches().show() # see available color palettes\n",
    "\n",
    "fig.update_traces(\n",
    "                  textposition=\"inside\",\n",
    "                  textinfo=\"percent+label\"\n",
    "                 )\n",
    "fig.update_layout(\n",
    "                  margin=dict(l=10, r=50, b=10, t=70, pad=0),\n",
    "                  titlefont = dict(size = 20)\n",
    "                 )\n",
    "iplot(fig)"
   ]
  },
  {
   "cell_type": "code",
   "execution_count": null,
   "id": "5234d719",
   "metadata": {},
   "outputs": [],
   "source": [
    "#testing data last city\n",
    "dlc = pd.read_sql_query(\n",
    "'''\n",
    "SELECT i1.invoice_id, SUBSTRING(i1.invoice_date, 1, 10) as date, i1.billing_country, i1.billing_city,\n",
    "ROUND(i1.total,2) as total\n",
    "  FROM invoice i1\n",
    "  JOIN invoice i2\n",
    "    ON i1.invoice_id = i2.invoice_id\n",
    "    WHERE i1.billing_city in ('Edmonton')\n",
    "GROUP BY i1.invoice_id, i1.invoice_date, i1.billing_country\n",
    "\n",
    "\n",
    "\n",
    "''', sales)\n",
    "\n",
    "dlc.head()\n",
    "# based on the previous data. Edmonton is the city with less sales"
   ]
  },
  {
   "cell_type": "code",
   "execution_count": null,
   "id": "25eae72d",
   "metadata": {},
   "outputs": [],
   "source": [
    "#testing data top city\n",
    "dtc = pd.read_sql_query(\n",
    "'''\n",
    "SELECT i1.invoice_id, SUBSTRING(i1.invoice_date, 1, 10) as date, i1.billing_country, i1.billing_city,\n",
    "ROUND(i1.total,2) as total\n",
    "  FROM invoice i1\n",
    "  JOIN invoice i2\n",
    "    ON i1.invoice_id = i2.invoice_id\n",
    "    WHERE i1.billing_city in ('Prague')\n",
    "GROUP BY i1.invoice_id, i1.invoice_date, i1.billing_country\n",
    "\n",
    "\n",
    "\n",
    "''', sales)\n",
    "\n",
    "dtc.head()\n",
    "# Prague is the city with most sales"
   ]
  },
  {
   "cell_type": "code",
   "execution_count": null,
   "id": "f6746e5d",
   "metadata": {},
   "outputs": [],
   "source": [
    "df_sales = pd.read_sql_query('''\n",
    "\n",
    "SELECT i1.invoice_id, SUBSTRING(i1.invoice_date, 1, 10) as date, i1.billing_country, i1.billing_city,\n",
    "ROUND(i1.total,2) as total\n",
    "  FROM invoice i1\n",
    "  JOIN invoice i2\n",
    "    ON i1.invoice_id >= i2.invoice_id\n",
    "    where i1.billing_city IN ('Paris') and i1.billing_country in ('France')\n",
    "GROUP BY i1.invoice_id, i1.invoice_date, i1.total, i1.billing_city\n",
    "--LIMIT 25\n",
    "    \n",
    "\n",
    "\n",
    "''', sales)\n",
    "df_sales.head()"
   ]
  },
  {
   "cell_type": "code",
   "execution_count": null,
   "id": "6828411e",
   "metadata": {},
   "outputs": [],
   "source": [
    "\n",
    "#Graph comparing top city and last city\n",
    "trace1 = go.Scatter(\n",
    "                    x = dtc[\"date\"],\n",
    "                    y = dtc[\"total\"],\n",
    "                    mode = \"lines+markers\",\n",
    "                    name = \"Sell top city (Prague)\",\n",
    "                    line = dict(width = 4),\n",
    "                    marker = dict(\n",
    "                                  size = 10,\n",
    "                                  color = \"#0E79B2\"\n",
    "                                 ),\n",
    "                     hovertemplate = \" %{x}<br>£%{y:,.0f} <extra></extra>\",\n",
    "                  )\n",
    "trace2 = go.Scatter(\n",
    "                    x = dlc[\"date\"],\n",
    "                    y = dlc[\"total\"],\n",
    "                    mode = \"lines+markers\",\n",
    "                    name = \"Sell Last City (Edmonton)\",\n",
    "                    line = dict(width = 4),\n",
    "                    marker = dict(\n",
    "                                  size = 10,\n",
    "                                  color = \"rgba(242, 225, 39, 1)\"\n",
    "                                 ),\n",
    "\n",
    "                     hovertemplate = \" %{x}<br>£%{y:,.0f} <extra></extra>\",\n",
    "                  )\n",
    "\n",
    "\n",
    "trace3 = go.Scatter(\n",
    "                    x = df_sales[\"date\"],\n",
    "                    y = df_sales[\"total\"],\n",
    "                    mode = \"lines+markers\",\n",
    "                    name = \"Sell in Paris\",\n",
    "                    line = dict(width = 4),\n",
    "                    marker = dict(\n",
    "                                  size = 10,\n",
    "                                  color = \"Brown\"\n",
    "                                 ),\n",
    "\n",
    "                     hovertemplate = \" %{x}<br>£%{y:,.0f} <extra></extra>\",\n",
    "                  )\n",
    "\n",
    "\n",
    "line_data = [trace1, trace2, trace3]\n",
    "\n",
    "layout = dict(\n",
    "              title = \"Sell by Month\",\n",
    "              titlefont = dict(size = 20),\n",
    "              margin=dict(l=10, r=50, b=10, t=70, pad=0),\n",
    "              xaxis= dict(title= \"Month\",ticklen = 5,zeroline = False),\n",
    "              #yaxis= dict(title= \"sales\"),\n",
    "              yaxis= dict(title= \"Total Sales\", tickformat = \",.0f\", tickprefix=\"£\"),\n",
    "              legend=dict(\n",
    "                          font = dict(size = 12),\n",
    "                          yanchor = \"top\",\n",
    "                          y=0.98,\n",
    "                          x= 0.01\n",
    "                         )\n",
    "    \n",
    "             )\n",
    "fig = dict(data = line_data, layout = layout)\n",
    "iplot(fig)\n",
    "\n"
   ]
  },
  {
   "cell_type": "code",
   "execution_count": null,
   "id": "9a9a1ba2",
   "metadata": {},
   "outputs": [],
   "source": [
    "#Lets try a crazy fun"
   ]
  },
  {
   "cell_type": "code",
   "execution_count": null,
   "id": "f74e343f",
   "metadata": {},
   "outputs": [],
   "source": [
    "result = pd.concat([dtc, dlc, df_sales])\n"
   ]
  },
  {
   "cell_type": "code",
   "execution_count": null,
   "id": "d6a59d03",
   "metadata": {},
   "outputs": [],
   "source": [
    "result.head()"
   ]
  },
  {
   "cell_type": "code",
   "execution_count": null,
   "id": "e7ae088f",
   "metadata": {},
   "outputs": [],
   "source": [
    "#pie chart for top 10.  The percent is for the 10 cities. 1490.94\n",
    "fig = px.pie(result,\n",
    "             values=\"total\",\n",
    "             names=\"billing_city\",\n",
    "             title=\"Percentage\",\n",
    "             color_discrete_sequence=px.colors.qualitative.G10\n",
    "            )\n",
    "# px.colors.qualitative.swatches().show() # see available color palettes\n",
    "\n",
    "fig.update_traces(\n",
    "                  textposition=\"inside\",\n",
    "                  textinfo=\"percent+label\"\n",
    "                 )\n",
    "fig.update_layout(\n",
    "                  margin=dict(l=10, r=50, b=10, t=70, pad=0),\n",
    "                  titlefont = dict(size = 20)\n",
    "                 )\n",
    "iplot(fig)"
   ]
  },
  {
   "cell_type": "code",
   "execution_count": null,
   "id": "8dee6dde",
   "metadata": {},
   "outputs": [],
   "source": [
    "#WE concated the data of top city , last city and city of Paris. Draw a pie with percentage of sales"
   ]
  }
 ],
 "metadata": {
  "kernelspec": {
   "display_name": "Python 3 (ipykernel)",
   "language": "python",
   "name": "python3"
  },
  "language_info": {
   "codemirror_mode": {
    "name": "ipython",
    "version": 3
   },
   "file_extension": ".py",
   "mimetype": "text/x-python",
   "name": "python",
   "nbconvert_exporter": "python",
   "pygments_lexer": "ipython3",
   "version": "3.9.12"
  }
 },
 "nbformat": 4,
 "nbformat_minor": 5
}
