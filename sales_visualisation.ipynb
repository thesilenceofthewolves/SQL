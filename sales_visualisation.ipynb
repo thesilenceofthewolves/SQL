{
 "cells": [
  {
   "cell_type": "code",
   "execution_count": 1,
   "id": "f817841c",
   "metadata": {},
   "outputs": [
    {
     "name": "stdout",
     "output_type": "stream",
     "text": [
      "Requirement already satisfied: pyodbc in /home/usman/anaconda3/lib/python3.9/site-packages (4.0.32)\n",
      "Note: you may need to restart the kernel to use updated packages.\n"
     ]
    }
   ],
   "source": [
    "pip install pyodbc\n"
   ]
  },
  {
   "cell_type": "code",
   "execution_count": 2,
   "id": "e6a21ae5",
   "metadata": {},
   "outputs": [],
   "source": [
    "import pandas as pd\n",
    "import sqlite3"
   ]
  },
  {
   "cell_type": "code",
   "execution_count": 3,
   "id": "d62bc730",
   "metadata": {},
   "outputs": [],
   "source": [
    "# Create sqlite connection\n",
    "sales = sqlite3.connect('chinook.db')\n",
    "\n",
    "df = pd.read_sql_query(\"SELECT * FROM customer\", sales)\n"
   ]
  },
  {
   "cell_type": "code",
   "execution_count": 4,
   "id": "8e7b6cd5",
   "metadata": {},
   "outputs": [],
   "source": [
    "#df['ID'] = df.index\n",
    "#df.head()"
   ]
  },
  {
   "cell_type": "code",
   "execution_count": 5,
   "id": "fed783bd",
   "metadata": {},
   "outputs": [],
   "source": [
    "\n",
    "df = pd.read_sql_query( '''\n",
    "\n",
    "\n",
    "SELECT genre.name AS genre, COUNT(track.track_id) AS num_of_track,\n",
    "\n",
    "ROUND(count(track.track_id) * 100.0 /\n",
    "            (select count(*) from track),2)  as Percentage\n",
    "  FROM  genre\n",
    "  JOIN  track\n",
    "   ON  genre.genre_id = track.genre_id\n",
    "  JOIN album\n",
    "   ON track.album_id =album.album_id\n",
    " GROUP BY genre.name\n",
    "ORDER by num_of_track DESC\n",
    "\n",
    "\n",
    "\n",
    "'''\n",
    "    \n",
    "    \n",
    "  \n",
    "    , sales)"
   ]
  },
  {
   "cell_type": "code",
   "execution_count": 6,
   "id": "ff43d0e9",
   "metadata": {},
   "outputs": [
    {
     "data": {
      "text/html": [
       "<div>\n",
       "<style scoped>\n",
       "    .dataframe tbody tr th:only-of-type {\n",
       "        vertical-align: middle;\n",
       "    }\n",
       "\n",
       "    .dataframe tbody tr th {\n",
       "        vertical-align: top;\n",
       "    }\n",
       "\n",
       "    .dataframe thead th {\n",
       "        text-align: right;\n",
       "    }\n",
       "</style>\n",
       "<table border=\"1\" class=\"dataframe\">\n",
       "  <thead>\n",
       "    <tr style=\"text-align: right;\">\n",
       "      <th></th>\n",
       "      <th>genre</th>\n",
       "      <th>num_of_track</th>\n",
       "      <th>Percentage</th>\n",
       "    </tr>\n",
       "  </thead>\n",
       "  <tbody>\n",
       "    <tr>\n",
       "      <th>0</th>\n",
       "      <td>Rock</td>\n",
       "      <td>1297</td>\n",
       "      <td>37.03</td>\n",
       "    </tr>\n",
       "    <tr>\n",
       "      <th>1</th>\n",
       "      <td>Latin</td>\n",
       "      <td>579</td>\n",
       "      <td>16.53</td>\n",
       "    </tr>\n",
       "    <tr>\n",
       "      <th>2</th>\n",
       "      <td>Metal</td>\n",
       "      <td>374</td>\n",
       "      <td>10.68</td>\n",
       "    </tr>\n",
       "    <tr>\n",
       "      <th>3</th>\n",
       "      <td>Alternative &amp; Punk</td>\n",
       "      <td>332</td>\n",
       "      <td>9.48</td>\n",
       "    </tr>\n",
       "    <tr>\n",
       "      <th>4</th>\n",
       "      <td>Jazz</td>\n",
       "      <td>130</td>\n",
       "      <td>3.71</td>\n",
       "    </tr>\n",
       "  </tbody>\n",
       "</table>\n",
       "</div>"
      ],
      "text/plain": [
       "                genre  num_of_track  Percentage\n",
       "0                Rock          1297       37.03\n",
       "1               Latin           579       16.53\n",
       "2               Metal           374       10.68\n",
       "3  Alternative & Punk           332        9.48\n",
       "4                Jazz           130        3.71"
      ]
     },
     "execution_count": 6,
     "metadata": {},
     "output_type": "execute_result"
    }
   ],
   "source": [
    "df.head()"
   ]
  },
  {
   "cell_type": "code",
   "execution_count": 20,
   "id": "912c9ff2",
   "metadata": {},
   "outputs": [
    {
     "data": {
      "image/png": "[encoded data removed]",
      "text/plain": [
       "<Figure size 432x288 with 1 Axes>"
      ]
     },
     "metadata": {
      "needs_background": "light"
     },
     "output_type": "display_data"
    }
   ],
   "source": [
    "# Ensure plots are displayed inline in the notebook\n",
    "%matplotlib inline\n",
    "\n",
    "from matplotlib import pyplot as plt\n",
    "\n",
    "# Create a bar plot of name vs grade\n",
    "plt.bar(x=df.genre, height=df.num_of_track, color='teal')\n",
    "\n",
    "# Display the plot\n",
    "plt.show()"
   ]
  },
  {
   "cell_type": "code",
   "execution_count": 8,
   "id": "b46ea1c3",
   "metadata": {},
   "outputs": [
    {
     "data": {
      "image/png": "[encoded data removed]",
      "text/plain": [
       "<Figure size 576x216 with 1 Axes>"
      ]
     },
     "metadata": {
      "needs_background": "light"
     },
     "output_type": "display_data"
    }
   ],
   "source": [
    "# Create a Figure\n",
    "fig = plt.figure(figsize=(8,3))\n",
    "\n",
    "# Create a bar plot of name vs grade\n",
    "plt.bar(x=df.genre, height=df.num_of_track, color='Teal')\n",
    "\n",
    "# Customize the chart\n",
    "plt.title('Total sales')\n",
    "plt.xlabel('Genre')\n",
    "plt.ylabel('Number of sales')\n",
    "plt.grid(color='#95a5a6', linestyle='--', linewidth=2, axis='y', alpha=0.7)\n",
    "plt.xticks(rotation=90)\n",
    "\n",
    "# Show the figure\n",
    "plt.show()"
   ]
  },
  {
   "cell_type": "code",
   "execution_count": 32,
   "id": "2f155ce9",
   "metadata": {},
   "outputs": [],
   "source": [
    "data = pd.read_sql_query(\n",
    "'''\n",
    "\n",
    "SELECT \n",
    "   genre.name AS genre, album.title as album, count(album.album_id) as num_of_album , artist.name as artist,\n",
    "    \n",
    "    ROUND(count(*) * 100.0 /\n",
    "            (select count(*) from album),2 )  as Percentage\n",
    "    \n",
    "    FROM  genre\n",
    "    JOIN  track\n",
    "   ON  genre.genre_id = track.genre_id     \n",
    " join invoice_line as i_l\n",
    "on i_l.track_id = track.track_id\n",
    " join invoice\n",
    " ON i_l.invoice_id = invoice.invoice_id\n",
    " JOIN album\n",
    " ON track.album_id = album.album_id\n",
    " JOIN artist\n",
    " ON album.artist_id = artist.artist_id\n",
    " group by album.album_id\n",
    " ORDER BY num_of_album DESC\n",
    "\n",
    "\n",
    "''', sales)\n",
    "\n"
   ]
  },
  {
   "cell_type": "code",
   "execution_count": 33,
   "id": "945f2036",
   "metadata": {},
   "outputs": [
    {
     "data": {
      "text/html": [
       "<div>\n",
       "<style scoped>\n",
       "    .dataframe tbody tr th:only-of-type {\n",
       "        vertical-align: middle;\n",
       "    }\n",
       "\n",
       "    .dataframe tbody tr th {\n",
       "        vertical-align: top;\n",
       "    }\n",
       "\n",
       "    .dataframe thead th {\n",
       "        text-align: right;\n",
       "    }\n",
       "</style>\n",
       "<table border=\"1\" class=\"dataframe\">\n",
       "  <thead>\n",
       "    <tr style=\"text-align: right;\">\n",
       "      <th></th>\n",
       "      <th>genre</th>\n",
       "      <th>album</th>\n",
       "      <th>num_of_album</th>\n",
       "      <th>artist</th>\n",
       "      <th>Percentage</th>\n",
       "    </tr>\n",
       "  </thead>\n",
       "  <tbody>\n",
       "    <tr>\n",
       "      <th>0</th>\n",
       "      <td>Rock</td>\n",
       "      <td>Are You Experienced?</td>\n",
       "      <td>187</td>\n",
       "      <td>Jimi Hendrix</td>\n",
       "      <td>53.89</td>\n",
       "    </tr>\n",
       "    <tr>\n",
       "      <th>1</th>\n",
       "      <td>Metal</td>\n",
       "      <td>Faceless</td>\n",
       "      <td>96</td>\n",
       "      <td>Godsmack</td>\n",
       "      <td>27.67</td>\n",
       "    </tr>\n",
       "    <tr>\n",
       "      <th>2</th>\n",
       "      <td>Metal</td>\n",
       "      <td>Mezmerize</td>\n",
       "      <td>93</td>\n",
       "      <td>System Of A Down</td>\n",
       "      <td>26.80</td>\n",
       "    </tr>\n",
       "    <tr>\n",
       "      <th>3</th>\n",
       "      <td>Alternative &amp; Punk</td>\n",
       "      <td>Get Born</td>\n",
       "      <td>90</td>\n",
       "      <td>JET</td>\n",
       "      <td>25.94</td>\n",
       "    </tr>\n",
       "    <tr>\n",
       "      <th>4</th>\n",
       "      <td>Rock</td>\n",
       "      <td>The Doors</td>\n",
       "      <td>83</td>\n",
       "      <td>The Doors</td>\n",
       "      <td>23.92</td>\n",
       "    </tr>\n",
       "    <tr>\n",
       "      <th>5</th>\n",
       "      <td>Rock</td>\n",
       "      <td>The Police Greatest Hits</td>\n",
       "      <td>80</td>\n",
       "      <td>The Police</td>\n",
       "      <td>23.05</td>\n",
       "    </tr>\n",
       "    <tr>\n",
       "      <th>6</th>\n",
       "      <td>Rock</td>\n",
       "      <td>Greatest Hits I</td>\n",
       "      <td>80</td>\n",
       "      <td>Queen</td>\n",
       "      <td>23.05</td>\n",
       "    </tr>\n",
       "    <tr>\n",
       "      <th>7</th>\n",
       "      <td>Rock</td>\n",
       "      <td>Big Ones</td>\n",
       "      <td>80</td>\n",
       "      <td>Aerosmith</td>\n",
       "      <td>23.05</td>\n",
       "    </tr>\n",
       "    <tr>\n",
       "      <th>8</th>\n",
       "      <td>Rock</td>\n",
       "      <td>From The Muddy Banks Of The Wishkah [live]</td>\n",
       "      <td>78</td>\n",
       "      <td>Nirvana</td>\n",
       "      <td>22.48</td>\n",
       "    </tr>\n",
       "    <tr>\n",
       "      <th>9</th>\n",
       "      <td>Rock</td>\n",
       "      <td>My Generation - The Very Best Of The Who</td>\n",
       "      <td>76</td>\n",
       "      <td>The Who</td>\n",
       "      <td>21.90</td>\n",
       "    </tr>\n",
       "  </tbody>\n",
       "</table>\n",
       "</div>"
      ],
      "text/plain": [
       "                genre                                       album  \\\n",
       "0                Rock                        Are You Experienced?   \n",
       "1               Metal                                    Faceless   \n",
       "2               Metal                                   Mezmerize   \n",
       "3  Alternative & Punk                                    Get Born   \n",
       "4                Rock                                   The Doors   \n",
       "5                Rock                    The Police Greatest Hits   \n",
       "6                Rock                             Greatest Hits I   \n",
       "7                Rock                                    Big Ones   \n",
       "8                Rock  From The Muddy Banks Of The Wishkah [live]   \n",
       "9                Rock    My Generation - The Very Best Of The Who   \n",
       "\n",
       "   num_of_album            artist  Percentage  \n",
       "0           187      Jimi Hendrix       53.89  \n",
       "1            96          Godsmack       27.67  \n",
       "2            93  System Of A Down       26.80  \n",
       "3            90               JET       25.94  \n",
       "4            83         The Doors       23.92  \n",
       "5            80        The Police       23.05  \n",
       "6            80             Queen       23.05  \n",
       "7            80         Aerosmith       23.05  \n",
       "8            78           Nirvana       22.48  \n",
       "9            76           The Who       21.90  "
      ]
     },
     "execution_count": 33,
     "metadata": {},
     "output_type": "execute_result"
    }
   ],
   "source": [
    "test = data.head(10)\n",
    "test"
   ]
  },
  {
   "cell_type": "code",
   "execution_count": 35,
   "id": "da1bb296",
   "metadata": {},
   "outputs": [
    {
     "data": {
      "image/png": "[encoded data removed]",
      "text/plain": [
       "<Figure size 576x216 with 1 Axes>"
      ]
     },
     "metadata": {
      "needs_background": "light"
     },
     "output_type": "display_data"
    }
   ],
   "source": [
    "# Create a Figure\n",
    "fig = plt.figure(figsize=(8,3))\n",
    "\n",
    "# Create a bar plot of name vs grade\n",
    "plt.bar(x=test.artist, height=test.num_of_album, color='Teal')\n",
    "\n",
    "# Customize the chart\n",
    "plt.title('Total sales')\n",
    "plt.xlabel('Genre')\n",
    "plt.ylabel('Number of sales')\n",
    "plt.grid(color='#95a5a6', linestyle='--', linewidth=2, axis='y', alpha=0.7)\n",
    "plt.xticks(rotation=90)\n",
    "\n",
    "# Show the figure\n",
    "plt.show()"
   ]
  },
  {
   "cell_type": "code",
   "execution_count": 37,
   "id": "3f614f12",
   "metadata": {},
   "outputs": [
    {
     "data": {
      "image/png": "[encoded data removed]",
      "text/plain": [
       "<Figure size 576x216 with 1 Axes>"
      ]
     },
     "metadata": {
      "needs_background": "light"
     },
     "output_type": "display_data"
    }
   ],
   "source": [
    "# Create a Figure\n",
    "fig = plt.figure(figsize=(8,3))\n",
    "\n",
    "# Create a bar plot of name vs grade\n",
    "plt.bar(x=test.album, height=test.num_of_album, color='Teal')\n",
    "\n",
    "# Customize the chart\n",
    "plt.title('Total sales')\n",
    "plt.xlabel('Genre')\n",
    "plt.ylabel('Number of sales')\n",
    "plt.grid(color='#95a5a6', linestyle='--', linewidth=2, axis='y', alpha=0.7)\n",
    "plt.xticks(rotation=90)\n",
    "\n",
    "# Show the figure\n",
    "plt.show()"
   ]
  },
  {
   "cell_type": "code",
   "execution_count": 11,
   "id": "d4fa0d1d",
   "metadata": {},
   "outputs": [],
   "source": [
    "import seaborn as sb\n",
    "sb.set()"
   ]
  },
  {
   "cell_type": "code",
   "execution_count": 50,
   "id": "e27dcebd",
   "metadata": {},
   "outputs": [
    {
     "name": "stderr",
     "output_type": "stream",
     "text": [
      "/home/usman/anaconda3/lib/python3.9/site-packages/seaborn/_decorators.py:36: FutureWarning: Pass the following variables as keyword args: x, y. From version 0.12, the only valid positional argument will be `data`, and passing other arguments without an explicit keyword will result in an error or misinterpretation.\n",
      "  warnings.warn(\n"
     ]
    },
    {
     "data": {
      "image/png": "[encoded data removed]",
      "text/plain": [
       "<Figure size 432x288 with 1 Axes>"
      ]
     },
     "metadata": {
      "needs_background": "light"
     },
     "output_type": "display_data"
    }
   ],
   "source": [
    "with "
   ]
  },
  {
   "cell_type": "code",
   "execution_count": null,
   "id": "6a72169f",
   "metadata": {},
   "outputs": [],
   "source": []
  }
 ],
 "metadata": {
  "kernelspec": {
   "display_name": "Python 3 (ipykernel)",
   "language": "python",
   "name": "python3"
  },
  "language_info": {
   "codemirror_mode": {
    "name": "ipython",
    "version": 3
   },
   "file_extension": ".py",
   "mimetype": "text/x-python",
   "name": "python",
   "nbconvert_exporter": "python",
   "pygments_lexer": "ipython3",
   "version": "3.9.12"
  }
 },
 "nbformat": 4,
 "nbformat_minor": 5
}
